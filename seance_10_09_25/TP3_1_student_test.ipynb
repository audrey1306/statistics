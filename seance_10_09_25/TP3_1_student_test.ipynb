{
 "cells": [
  {
   "cell_type": "markdown",
   "metadata": {},
   "source": [
    "# TP 3.1 : Test de Student"
   ]
  },
  {
   "cell_type": "markdown",
   "metadata": {},
   "source": [
    "Nous nous intéressons ici au test de Student de comparaison des moyennes sur 2 échantillons indépendants simulés selon des lois normales de même variance $\\sigma^2 > 0$,\n",
    "\\begin{equation*}\n",
    "X_1,\\dots,X_p \\sim \\mathcal{N}(m_X,\\sigma^2) \\quad \\text{et} \\quad Y_1,\\dots,Y_q \\sim \\mathcal{N}(m_Y,\\sigma^2).\n",
    "\\end{equation*}\n",
    "Pour expérimenter, nous prendrons $p=q=10$, $m_X=m_Y=0$ et $\\sigma^2=1$."
   ]
  },
  {
   "cell_type": "code",
   "execution_count": 24,
   "metadata": {
    "vscode": {
     "languageId": "r"
    }
   },
   "outputs": [],
   "source": [
    "# Génération des échantillons\n",
    "x <- rnorm(10)\n",
    "y <- rnorm(10)"
   ]
  },
  {
   "cell_type": "markdown",
   "metadata": {},
   "source": [
    "Le test bilatéral de comparaison des moyennes sur ces 2 échantillons se fait en utilisant la fonction `t.test()` avec l'option `var.equal=TRUE`."
   ]
  },
  {
   "cell_type": "code",
   "execution_count": 25,
   "metadata": {
    "vscode": {
     "languageId": "r"
    }
   },
   "outputs": [
    {
     "data": {
      "text/plain": [
       "\n",
       "\tTwo Sample t-test\n",
       "\n",
       "data:  x and y\n",
       "t = -0.72124, df = 18, p-value = 0.48\n",
       "alternative hypothesis: true difference in means is not equal to 0\n",
       "95 percent confidence interval:\n",
       " -0.8852488  0.4327753\n",
       "sample estimates:\n",
       " mean of x  mean of y \n",
       "0.05177846 0.27801521 \n"
      ]
     },
     "metadata": {},
     "output_type": "display_data"
    }
   ],
   "source": [
    "# Test bilatéral de comparaison des moyennes\n",
    "resultat_test <- t.test(x, y, var.equal=TRUE)\n",
    "\n",
    "# L'objet obtenu contient beaucoup d'informations\n",
    "resultat_test"
   ]
  },
  {
   "cell_type": "markdown",
   "metadata": {},
   "source": [
    "Utilisez la cellule suivante pour répondre aux questions :\n",
    "1. Donner l'hypothèse nulle $H_0$ et l'hypothèse alternative $H_1$ de ce test.\n",
    "2. Pourquoi faut-il supposer que les deux échantillons aient la même variance ?\n",
    "   En particulier, quelle est la loi de la variable\n",
    "   $$\n",
    "   (p+q-2)\\frac{\\tilde{\\sigma}^2_{p,q}}{\\sigma^2} \\quad \\text{où} \\quad\n",
    "   \\tilde{\\sigma}^2_{p,q} = \\frac{1}{p+q-2}\\sum_{k=1}^p\\left( X_k - \\bar{X}_p \\right)^2 + \\frac{1}{p+q-2}\\sum_{k=1}^q\\left( Y_k - \\bar{Y}_q \\right)^2\n",
    "   $$\n",
    "3. En déduire la loi de la statistique de test\n",
    "   $$\n",
    "   T = \\sqrt{\\frac{pq}{p+q}} \\times \\frac{\\bar{X}_p - \\bar{Y}_q}{\\sqrt{\\tilde{\\sigma}^2_{p,q}}}.\n",
    "   $$\n",
    "4. Vérifier le calcul de la statistique de test donné dans `resultat_test`.\n",
    "5. Quelle est la p-valeur du test `resultat_test` ?\n",
    "   Pour un niveau de 95%, doit-on accepter ou rejeter $H_0$ ?\n",
    "   Est-ce cohérent avec notre simulation initiale ?\n",
    "6. Recalculer cette p-valeur à partir d'une loi de Student à 18 degrés de liberté."
   ]
  },
  {
   "cell_type": "code",
   "execution_count": null,
   "metadata": {
    "vscode": {
     "languageId": "r"
    }
   },
   "outputs": [
    {
     "data": {
      "text/html": [
       "0.491967925245502"
      ],
      "text/latex": [
       "0.491967925245502"
      ],
      "text/markdown": [
       "0.491967925245502"
      ],
      "text/plain": [
       "[1] 0.4919679"
      ]
     },
     "metadata": {},
     "output_type": "display_data"
    },
    {
     "data": {
      "text/html": [
       "-0.721239944989373"
      ],
      "text/latex": [
       "-0.721239944989373"
      ],
      "text/markdown": [
       "-0.721239944989373"
      ],
      "text/plain": [
       "[1] -0.7212399"
      ]
     },
     "metadata": {},
     "output_type": "display_data"
    }
   ],
   "source": [
    "# À FAIRE\n",
    "\n",
    "#1. \n",
    "#H0 les deux échantillons ont la même moyenne \n",
    "#H1 : les deux échantillons n'ont pas la même moyenne\n",
    "\n",
    "#2 #3 voir onenote\n",
    "\n",
    "#4 \n",
    "\n",
    "sigma_pool_2 <- 1/ (10 + 10 - 2) * ( sum((x - mean(x))^2) + sum((y - mean(y))^2 ))\n",
    "sigma_pool_2\n",
    "\n",
    "T <- sqrt(length(x)*length(y)/(length(x)+length(y))) * ( mean(x) - mean(y) ) / sqrt(sigma_pool_2)\n",
    "T\n",
    "\n",
    "#5 \n",
    "#on ne rejete pas H0 -> cohérent"
   ]
  },
  {
   "cell_type": "code",
   "execution_count": 34,
   "metadata": {
    "vscode": {
     "languageId": "r"
    }
   },
   "outputs": [
    {
     "name": "stdout",
     "output_type": "stream",
     "text": [
      "La p-valeur du test est : 0.4800259 \n",
      "p-valeur >= 0.05 → on ne rejette pas H0\n"
     ]
    }
   ],
   "source": [
    "#6\n",
    "# statistique de test numérique\n",
    "T_observe <- resultat_test$statistic\n",
    "\n",
    "# degrés de liberté\n",
    "df <- 18\n",
    "\n",
    "# p-valeur bilatérale\n",
    "p_valeur <- 2 * (1 - pt(abs(T_observe), df))\n",
    "\n",
    "# affichage\n",
    "cat(\"La p-valeur du test est :\", p_valeur, \"\\n\")\n",
    "\n",
    "alpha <- 0.05\n",
    "if(p_valeur < alpha){\n",
    "  cat(\"p-valeur < 0.05 → on rejette H0\\n\")\n",
    "} else {\n",
    "  cat(\"p-valeur >= 0.05 → on ne rejette pas H0\\n\")\n",
    "}\n",
    "\n"
   ]
  },
  {
   "cell_type": "markdown",
   "metadata": {},
   "source": [
    "Pour illustrer la notion de niveau d'un test, nous simulons 1000 paires d'échantillons de taille 10 comme ci-dessus et nous les stockons dans deux matrices `X` et `Y`."
   ]
  },
  {
   "cell_type": "code",
   "execution_count": 46,
   "metadata": {
    "vscode": {
     "languageId": "r"
    }
   },
   "outputs": [],
   "source": [
    "X <- matrix(rnorm(1000*10), nrow=1000)\n",
    "Y <- matrix(rnorm(1000*10), nrow=1000)\n",
    "\n",
    "\n"
   ]
  },
  {
   "cell_type": "markdown",
   "metadata": {},
   "source": [
    "<div class=\"alert alert-block alert-success\">\n",
    "    Utilisez la cellule suivante pour répondre aux questions :\n",
    "    <ol>\n",
    "        <li>Effectuer un test de comparaison des moyennes pour chaque paire d'échantillons et stocker la p-valeur du résultat dans un vecteur <code>p_valeur</code> de taille 1000.</li>\n",
    "        <li>Combien de p-valeurs inférieures à 0.05 obtenez-vous ? Combien devriez-vous théoriquement en obtenir en moyenne ?</li>\n",
    "        <li>Repérer l'indice du test qui donne la plus petite p-valeur (il peut être utile d'utiliser la fonction <code>which.min()</code>). Pour un niveau de 95%, doit-on accepter ou rejeter $H_0$ pour ce test ?</li>\n",
    "        <li>Représenter graphiquement les données correspondant à ce test :\n",
    "            <ul>\n",
    "                <li>afficher la densité de la loi normale centrée réduite entre -3 et 3 avec <code>plot(dnorm, -3, 3, type=\"l\")</code>,</li>\n",
    "                <li>afficher les deux échantillons avec deux couleurs différentes grâce à la fonction <code>rug()</code>,</li>\n",
    "                <li>afficher les moyennes des deux échantillons (fonction <code>rug()</code>),</li>\n",
    "                <li>ajouter une légende.</li>\n",
    "            </ul>\n",
    "            <center><img src=\"img/student.png\"></center>\n",
    "        </li>\n",
    "    </ol>\n",
    "</div>"
   ]
  },
  {
   "cell_type": "code",
   "execution_count": 47,
   "metadata": {
    "vscode": {
     "languageId": "r"
    }
   },
   "outputs": [
    {
     "data": {
      "text/html": [
       "38"
      ],
      "text/latex": [
       "38"
      ],
      "text/markdown": [
       "38"
      ],
      "text/plain": [
       "[1] 38"
      ]
     },
     "metadata": {},
     "output_type": "display_data"
    },
    {
     "name": "stdout",
     "output_type": "stream",
     "text": [
      "Nombre théorique de p-valeurs < 0.05 : 50 \n"
     ]
    }
   ],
   "source": [
    "# À FAIRE\n",
    "\n",
    "#1 \n",
    "p_valeur <- rep(NA, 1000)\n",
    "\n",
    "df = 18\n",
    "\n",
    "for (i in seq(from=1, to=1000)){\n",
    "    resultat_test <- t.test(X[i,],Y[i,], var.equal = TRUE)\n",
    "    p_valeur[i] <- 2 * (1 - pt(abs(resultat_test$statistic), df))\n",
    "}\n",
    "    \n",
    "\n",
    "#2 \n",
    "c <- 0\n",
    "for (p in p_valeur){\n",
    "    if (p<0.05){\n",
    "        c <- c + 1\n",
    "    }\n",
    "}\n",
    "\n",
    "c\n",
    "\n",
    "# Théoriquement, sous H0, on s'attend à alpha*n rejets\n",
    "alpha <- 0.05\n",
    "theorique <- alpha * 1000\n",
    "cat(\"Nombre théorique de p-valeurs < 0.05 :\", theorique, \"\\n\")"
   ]
  },
  {
   "cell_type": "code",
   "execution_count": 48,
   "metadata": {
    "vscode": {
     "languageId": "r"
    }
   },
   "outputs": [
    {
     "data": {
      "text/html": [
       "0.00186608672670818"
      ],
      "text/latex": [
       "0.00186608672670818"
      ],
      "text/markdown": [
       "0.00186608672670818"
      ],
      "text/plain": [
       "[1] 0.001866087"
      ]
     },
     "metadata": {},
     "output_type": "display_data"
    },
    {
     "name": "stdout",
     "output_type": "stream",
     "text": [
      "Indice du test avec la plus petite p-valeur : 430 \n"
     ]
    }
   ],
   "source": [
    "#3\n",
    "\n",
    "indice_min <- which.min(p_valeur)\n",
    "min(p_valeur)\n",
    "cat(\"Indice du test avec la plus petite p-valeur :\", indice_min, \"\\n\")"
   ]
  },
  {
   "cell_type": "code",
   "execution_count": 52,
   "metadata": {
    "vscode": {
     "languageId": "r"
    }
   },
   "outputs": [
    {
     "data": {
      "image/png": "[encoded data removed]",
      "text/plain": [
       "Plot with title “Test ligne 430”"
      ]
     },
     "metadata": {
      "image/png": {
       "height": 420,
       "width": 420
      }
     },
     "output_type": "display_data"
    }
   ],
   "source": [
    "#4\n",
    "par (bg = \"white\")\n",
    "# Tracer la densité de la loi normale centrée réduite\n",
    "plot(dnorm, -3, 3, type=\"l\", lwd=2, col=\"black\",\n",
    "     main=paste(\"Test ligne\", indice_min),\n",
    "     ylab=\"Densité\", xlab=\"Valeurs standardisées\")\n",
    "\n",
    "# Ajouter les échantillons X et Y avec rug\n",
    "rug(X[indice_min,], col=\"blue\")  # échantillon X\n",
    "rug(Y[indice_min,], col=\"red\")   # échantillon Y\n",
    "\n",
    "# Ajouter les moyennes\n",
    "rug(mean(X[indice_min,],), col=\"blue\", lwd=3)\n",
    "rug(mean(Y[indice_min,],), col=\"red\", lwd=3)\n",
    "\n",
    "# Ajouter une légende\n",
    "legend(\"topright\", legend=c(\"X\", \"Y\", \"Moyenne X\", \"Moyenne Y\"),\n",
    "       col=c(\"blue\",\"red\",\"blue\",\"red\"), lwd=c(1,1,3,3), cex=0.8)\n"
   ]
  }
 ],
 "metadata": {
  "kernelspec": {
   "display_name": "R",
   "language": "R",
   "name": "ir"
  },
  "language_info": {
   "codemirror_mode": "r",
   "file_extension": ".r",
   "mimetype": "text/x-r-source",
   "name": "R",
   "pygments_lexer": "r",
   "version": "4.3.3"
  }
 },
 "nbformat": 4,
 "nbformat_minor": 4
}
