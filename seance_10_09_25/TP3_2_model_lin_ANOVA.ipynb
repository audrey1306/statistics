{
 "cells": [
  {
   "cell_type": "markdown",
   "metadata": {},
   "source": [
    "# TP 3.2 : Modélisation, Modèle linéaire et ANOVA"
   ]
  },
  {
   "cell_type": "markdown",
   "metadata": {},
   "source": [
    "## 1. Régression linéaire simple\n",
    "\n",
    "Pour ce premier exercice, nous manipulerons le jeu de données `cars`."
   ]
  },
  {
   "cell_type": "code",
   "execution_count": null,
   "metadata": {
    "vscode": {
     "languageId": "r"
    }
   },
   "outputs": [
    {
     "name": "stdout",
     "output_type": "stream",
     "text": [
      "cars                 package:datasets                  R Documentation\n",
      "\n",
      "_\bS_\bp_\be_\be_\bd _\ba_\bn_\bd _\bS_\bt_\bo_\bp_\bp_\bi_\bn_\bg _\bD_\bi_\bs_\bt_\ba_\bn_\bc_\be_\bs _\bo_\bf _\bC_\ba_\br_\bs\n",
      "\n",
      "_\bD_\be_\bs_\bc_\br_\bi_\bp_\bt_\bi_\bo_\bn:\n",
      "\n",
      "     The data give the speed of cars and the distances taken to stop.\n",
      "     Note that the data were recorded in the 1920s.\n",
      "\n",
      "_\bU_\bs_\ba_\bg_\be:\n",
      "\n",
      "     cars\n",
      "     \n",
      "_\bF_\bo_\br_\bm_\ba_\bt:\n",
      "\n",
      "     A data frame with 50 observations on 2 variables.\n",
      "\n",
      "       [,1]  speed  numeric  Speed (mph)            \n",
      "       [,2]  dist   numeric  Stopping distance (ft) \n",
      "      \n",
      "_\bS_\bo_\bu_\br_\bc_\be:\n",
      "\n",
      "     Ezekiel, M. (1930) _Methods of Correlation Analysis_.  Wiley.\n",
      "\n",
      "_\bR_\be_\bf_\be_\br_\be_\bn_\bc_\be_\bs:\n",
      "\n",
      "     McNeil, D. R. (1977) _Interactive Data Analysis_.  Wiley.\n",
      "\n",
      "_\bE_\bx_\ba_\bm_\bp_\bl_\be_\bs:\n",
      "\n",
      "     require(stats); require(graphics)\n",
      "     plot(cars, xlab = \"Speed (mph)\", ylab = \"Stopping distance (ft)\",\n",
      "          las = 1)\n",
      "     lines(lowess(cars$speed, cars$dist, f = 2/3, iter = 3), col = \"red\")\n",
      "     title(main = \"cars data\")\n",
      "     plot(cars, xlab = \"Speed (mph)\", ylab = \"Stopping distance (ft)\",\n",
      "          las = 1, log = \"xy\")\n",
      "     title(main = \"cars data (logarithmic scales)\")\n",
      "     lines(lowess(cars$speed, cars$dist, f = 2/3, iter = 3), col = \"red\")\n",
      "     summary(fm1 <- lm(log(dist) ~ log(speed), data = cars))\n",
      "     opar <- par(mfrow = c(2, 2), oma = c(0, 0, 1.1, 0),\n",
      "                 mar = c(4.1, 4.1, 2.1, 1.1))\n",
      "     plot(fm1)\n",
      "     par(opar)\n",
      "     \n",
      "     ## An example of polynomial regression\n",
      "     plot(cars, xlab = \"Speed (mph)\", ylab = \"Stopping distance (ft)\",\n",
      "         las = 1, xlim = c(0, 25))\n",
      "     d <- seq(0, 25, length.out = 200)\n",
      "     for(degree in 1:4) {\n",
      "       fm <- lm(dist ~ poly(speed, degree), data = cars)\n",
      "       assign(paste(\"cars\", degree, sep = \".\"), fm)\n",
      "       lines(d, predict(fm, data.frame(speed = d)), col = degree)\n",
      "     }\n",
      "     anova(cars.1, cars.2, cars.3, cars.4)\n",
      "     "
     ]
    }
   ],
   "source": [
    "help(cars)"
   ]
  },
  {
   "cell_type": "code",
   "execution_count": 4,
   "metadata": {
    "vscode": {
     "languageId": "r"
    }
   },
   "outputs": [
    {
     "data": {
      "text/html": [
       "<table class=\"dataframe\">\n",
       "<caption>A data.frame: 50 × 2</caption>\n",
       "<thead>\n",
       "\t<tr><th scope=col>speed</th><th scope=col>dist</th></tr>\n",
       "\t<tr><th scope=col>&lt;dbl&gt;</th><th scope=col>&lt;dbl&gt;</th></tr>\n",
       "</thead>\n",
       "<tbody>\n",
       "\t<tr><td> 4</td><td>  2</td></tr>\n",
       "\t<tr><td> 4</td><td> 10</td></tr>\n",
       "\t<tr><td> 7</td><td>  4</td></tr>\n",
       "\t<tr><td> 7</td><td> 22</td></tr>\n",
       "\t<tr><td> 8</td><td> 16</td></tr>\n",
       "\t<tr><td> 9</td><td> 10</td></tr>\n",
       "\t<tr><td>10</td><td> 18</td></tr>\n",
       "\t<tr><td>10</td><td> 26</td></tr>\n",
       "\t<tr><td>10</td><td> 34</td></tr>\n",
       "\t<tr><td>11</td><td> 17</td></tr>\n",
       "\t<tr><td>11</td><td> 28</td></tr>\n",
       "\t<tr><td>12</td><td> 14</td></tr>\n",
       "\t<tr><td>12</td><td> 20</td></tr>\n",
       "\t<tr><td>12</td><td> 24</td></tr>\n",
       "\t<tr><td>12</td><td> 28</td></tr>\n",
       "\t<tr><td>13</td><td> 26</td></tr>\n",
       "\t<tr><td>13</td><td> 34</td></tr>\n",
       "\t<tr><td>13</td><td> 34</td></tr>\n",
       "\t<tr><td>13</td><td> 46</td></tr>\n",
       "\t<tr><td>14</td><td> 26</td></tr>\n",
       "\t<tr><td>14</td><td> 36</td></tr>\n",
       "\t<tr><td>14</td><td> 60</td></tr>\n",
       "\t<tr><td>14</td><td> 80</td></tr>\n",
       "\t<tr><td>15</td><td> 20</td></tr>\n",
       "\t<tr><td>15</td><td> 26</td></tr>\n",
       "\t<tr><td>15</td><td> 54</td></tr>\n",
       "\t<tr><td>16</td><td> 32</td></tr>\n",
       "\t<tr><td>16</td><td> 40</td></tr>\n",
       "\t<tr><td>17</td><td> 32</td></tr>\n",
       "\t<tr><td>17</td><td> 40</td></tr>\n",
       "\t<tr><td>17</td><td> 50</td></tr>\n",
       "\t<tr><td>18</td><td> 42</td></tr>\n",
       "\t<tr><td>18</td><td> 56</td></tr>\n",
       "\t<tr><td>18</td><td> 76</td></tr>\n",
       "\t<tr><td>18</td><td> 84</td></tr>\n",
       "\t<tr><td>19</td><td> 36</td></tr>\n",
       "\t<tr><td>19</td><td> 46</td></tr>\n",
       "\t<tr><td>19</td><td> 68</td></tr>\n",
       "\t<tr><td>20</td><td> 32</td></tr>\n",
       "\t<tr><td>20</td><td> 48</td></tr>\n",
       "\t<tr><td>20</td><td> 52</td></tr>\n",
       "\t<tr><td>20</td><td> 56</td></tr>\n",
       "\t<tr><td>20</td><td> 64</td></tr>\n",
       "\t<tr><td>22</td><td> 66</td></tr>\n",
       "\t<tr><td>23</td><td> 54</td></tr>\n",
       "\t<tr><td>24</td><td> 70</td></tr>\n",
       "\t<tr><td>24</td><td> 92</td></tr>\n",
       "\t<tr><td>24</td><td> 93</td></tr>\n",
       "\t<tr><td>24</td><td>120</td></tr>\n",
       "\t<tr><td>25</td><td> 85</td></tr>\n",
       "</tbody>\n",
       "</table>\n"
      ],
      "text/latex": [
       "A data.frame: 50 × 2\n",
       "\\begin{tabular}{ll}\n",
       " speed & dist\\\\\n",
       " <dbl> & <dbl>\\\\\n",
       "\\hline\n",
       "\t  4 &   2\\\\\n",
       "\t  4 &  10\\\\\n",
       "\t  7 &   4\\\\\n",
       "\t  7 &  22\\\\\n",
       "\t  8 &  16\\\\\n",
       "\t  9 &  10\\\\\n",
       "\t 10 &  18\\\\\n",
       "\t 10 &  26\\\\\n",
       "\t 10 &  34\\\\\n",
       "\t 11 &  17\\\\\n",
       "\t 11 &  28\\\\\n",
       "\t 12 &  14\\\\\n",
       "\t 12 &  20\\\\\n",
       "\t 12 &  24\\\\\n",
       "\t 12 &  28\\\\\n",
       "\t 13 &  26\\\\\n",
       "\t 13 &  34\\\\\n",
       "\t 13 &  34\\\\\n",
       "\t 13 &  46\\\\\n",
       "\t 14 &  26\\\\\n",
       "\t 14 &  36\\\\\n",
       "\t 14 &  60\\\\\n",
       "\t 14 &  80\\\\\n",
       "\t 15 &  20\\\\\n",
       "\t 15 &  26\\\\\n",
       "\t 15 &  54\\\\\n",
       "\t 16 &  32\\\\\n",
       "\t 16 &  40\\\\\n",
       "\t 17 &  32\\\\\n",
       "\t 17 &  40\\\\\n",
       "\t 17 &  50\\\\\n",
       "\t 18 &  42\\\\\n",
       "\t 18 &  56\\\\\n",
       "\t 18 &  76\\\\\n",
       "\t 18 &  84\\\\\n",
       "\t 19 &  36\\\\\n",
       "\t 19 &  46\\\\\n",
       "\t 19 &  68\\\\\n",
       "\t 20 &  32\\\\\n",
       "\t 20 &  48\\\\\n",
       "\t 20 &  52\\\\\n",
       "\t 20 &  56\\\\\n",
       "\t 20 &  64\\\\\n",
       "\t 22 &  66\\\\\n",
       "\t 23 &  54\\\\\n",
       "\t 24 &  70\\\\\n",
       "\t 24 &  92\\\\\n",
       "\t 24 &  93\\\\\n",
       "\t 24 & 120\\\\\n",
       "\t 25 &  85\\\\\n",
       "\\end{tabular}\n"
      ],
      "text/markdown": [
       "\n",
       "A data.frame: 50 × 2\n",
       "\n",
       "| speed &lt;dbl&gt; | dist &lt;dbl&gt; |\n",
       "|---|---|\n",
       "|  4 |   2 |\n",
       "|  4 |  10 |\n",
       "|  7 |   4 |\n",
       "|  7 |  22 |\n",
       "|  8 |  16 |\n",
       "|  9 |  10 |\n",
       "| 10 |  18 |\n",
       "| 10 |  26 |\n",
       "| 10 |  34 |\n",
       "| 11 |  17 |\n",
       "| 11 |  28 |\n",
       "| 12 |  14 |\n",
       "| 12 |  20 |\n",
       "| 12 |  24 |\n",
       "| 12 |  28 |\n",
       "| 13 |  26 |\n",
       "| 13 |  34 |\n",
       "| 13 |  34 |\n",
       "| 13 |  46 |\n",
       "| 14 |  26 |\n",
       "| 14 |  36 |\n",
       "| 14 |  60 |\n",
       "| 14 |  80 |\n",
       "| 15 |  20 |\n",
       "| 15 |  26 |\n",
       "| 15 |  54 |\n",
       "| 16 |  32 |\n",
       "| 16 |  40 |\n",
       "| 17 |  32 |\n",
       "| 17 |  40 |\n",
       "| 17 |  50 |\n",
       "| 18 |  42 |\n",
       "| 18 |  56 |\n",
       "| 18 |  76 |\n",
       "| 18 |  84 |\n",
       "| 19 |  36 |\n",
       "| 19 |  46 |\n",
       "| 19 |  68 |\n",
       "| 20 |  32 |\n",
       "| 20 |  48 |\n",
       "| 20 |  52 |\n",
       "| 20 |  56 |\n",
       "| 20 |  64 |\n",
       "| 22 |  66 |\n",
       "| 23 |  54 |\n",
       "| 24 |  70 |\n",
       "| 24 |  92 |\n",
       "| 24 |  93 |\n",
       "| 24 | 120 |\n",
       "| 25 |  85 |\n",
       "\n"
      ],
      "text/plain": [
       "   speed dist\n",
       "1   4      2 \n",
       "2   4     10 \n",
       "3   7      4 \n",
       "4   7     22 \n",
       "5   8     16 \n",
       "6   9     10 \n",
       "7  10     18 \n",
       "8  10     26 \n",
       "9  10     34 \n",
       "10 11     17 \n",
       "11 11     28 \n",
       "12 12     14 \n",
       "13 12     20 \n",
       "14 12     24 \n",
       "15 12     28 \n",
       "16 13     26 \n",
       "17 13     34 \n",
       "18 13     34 \n",
       "19 13     46 \n",
       "20 14     26 \n",
       "21 14     36 \n",
       "22 14     60 \n",
       "23 14     80 \n",
       "24 15     20 \n",
       "25 15     26 \n",
       "26 15     54 \n",
       "27 16     32 \n",
       "28 16     40 \n",
       "29 17     32 \n",
       "30 17     40 \n",
       "31 17     50 \n",
       "32 18     42 \n",
       "33 18     56 \n",
       "34 18     76 \n",
       "35 18     84 \n",
       "36 19     36 \n",
       "37 19     46 \n",
       "38 19     68 \n",
       "39 20     32 \n",
       "40 20     48 \n",
       "41 20     52 \n",
       "42 20     56 \n",
       "43 20     64 \n",
       "44 22     66 \n",
       "45 23     54 \n",
       "46 24     70 \n",
       "47 24     92 \n",
       "48 24     93 \n",
       "49 24    120 \n",
       "50 25     85 "
      ]
     },
     "metadata": {},
     "output_type": "display_data"
    }
   ],
   "source": [
    "cars "
   ]
  },
  {
   "cell_type": "markdown",
   "metadata": {},
   "source": [
    "<div class=\"alert alert-block alert-success\">\n",
    "    Utilisez la cellule suivante pour répondre aux questions :\n",
    "    <ol>\n",
    "        <li>À partir des formules rappelées en cours, calculer l'équation de la droite de régression de <code>cars&dollar;dist</code> en fonction de <code>cars&dollar;speed</code>.</li>\n",
    "        <li>Retrouver ce résultat directement grâce à la fonction <code>lm()</code>.</li>\n",
    "        <li>Calculer la part de variance expliquée par le modèle en fonction du rapport de la variance des résidus sur la variance initiale. Cette quantité s'appelle <i>coefficient de détermination linéaire de Pearson</i> ou plus simplement $R^2$.</li>\n",
    "        <li>Représenter graphiquement le nuage de points des données traversé par la droite de régression.<br>\n",
    "            <center><img src=\"img/regression_simple.png\"></center>\n",
    "        </li>\n",
    "    </ol>\n",
    "</div>"
   ]
  },
  {
   "cell_type": "code",
   "execution_count": 13,
   "metadata": {
    "vscode": {
     "languageId": "r"
    }
   },
   "outputs": [
    {
     "data": {
      "image/png": "[encoded data removed]",
      "text/plain": [
       "Plot with title “Distance de freinage en fonction de la vitesse”"
      ]
     },
     "metadata": {
      "image/png": {
       "height": 420,
       "width": 420
      }
     },
     "output_type": "display_data"
    }
   ],
   "source": [
    "# À FAIRE\n",
    "\n",
    "#2\n",
    "par(bg = \"white\")\n",
    "\n",
    "# Nombre de points\n",
    "n <- nrow(cars)\n",
    "\n",
    "# Palette arc-en-ciel\n",
    "couleurs <- rainbow(n)\n",
    "\n",
    "# Nuage de points avec couleurs différentes\n",
    "plot(cars$speed, cars$dist,\n",
    "     main = \"Distance de freinage en fonction de la vitesse\",\n",
    "     xlab = \"Vitesse (mph)\",\n",
    "     ylab = \"Distance (ft)\",\n",
    "     pch = 19,\n",
    "     cex = 1.5,          # forme des points\n",
    "     col = couleurs)    # couleur arc-en-ciel\n",
    "\n",
    "\n",
    "modele <- lm(dist ~ speed, data = cars)\n",
    "\n",
    "abline(modele, col = \"red\", lwd = 2)\n",
    "\n"
   ]
  },
  {
   "cell_type": "markdown",
   "metadata": {},
   "source": [
    "## 2. Régression linéaire multiple\n",
    "\n",
    "Le cadre général du modèle de régression linéaire peut être donné par un vecteur $y \\in \\mathbb{R}^n$ contenant les $n$ observations de la *variable à expliquer* et par une matrice $X \\in \\mathbb{R}^{n \\times p}$ contenant les $n$ observations des $p$ *variables explicatives*. Parmi les variables explicatives, une colonne de 1 est souvent ajoutée pour traiter l'ordonnée à l'origine comme les autres variables et unifier les notations. La relation recherchée se formule à l'aide du *vecteur des coefficients* $\\theta \\in \\mathbb{R}^p$,\n",
    "\\begin{equation*}\n",
    "y = X\\theta + \\varepsilon\n",
    "\\end{equation*}\n",
    "où $\\varepsilon \\in \\mathbb{R}^n$ est le vecteur des résidus. Des calculs similaires à ceux vus en cours pour le critère des moindres carrés donnent la formulation matricielle de l'estimateur $\\hat{\\theta}$ lorsque la matrice $X^\\top X$ est inversible,\n",
    "\\begin{equation*}\n",
    "\\hat{\\theta} = (X^\\top X)^{-1} X^\\top y.\n",
    "\\end{equation*}\n",
    "\n",
    "Nous considérons maintenant le jeu de données `swiss`."
   ]
  },
  {
   "cell_type": "code",
   "execution_count": null,
   "metadata": {
    "vscode": {
     "languageId": "r"
    }
   },
   "outputs": [],
   "source": [
    "help(swiss)"
   ]
  },
  {
   "cell_type": "markdown",
   "metadata": {},
   "source": [
    "<div class=\"alert alert-block alert-success\">\n",
    "    Utilisez la cellule suivante pour répondre aux questions :\n",
    "    <ol>\n",
    "        <li>Effectuer la régression linéaire multiple modélisant la fertilité en fonction des autres variables à l'aide de la fonction <code>lm()</code>.</li>\n",
    "        <li>Recalculer les coefficients de la régression par la formule matricielle donnée ci-dessus.</li>\n",
    "        <li>Utiliser la fonction <code>step()</code> pour réduire la dimension du modèle en retirant les variables négligeables.</li>\n",
    "    </ol>\n",
    "</div>"
   ]
  },
  {
   "cell_type": "code",
   "execution_count": null,
   "metadata": {
    "vscode": {
     "languageId": "r"
    }
   },
   "outputs": [],
   "source": [
    "# À FAIRE"
   ]
  },
  {
   "cell_type": "markdown",
   "metadata": {},
   "source": [
    "## 3. Analyse de variance\n",
    "\n",
    "Dans cette dernière partie, nous utiliserons le jeu de données `iris`."
   ]
  },
  {
   "cell_type": "code",
   "execution_count": null,
   "metadata": {
    "vscode": {
     "languageId": "r"
    }
   },
   "outputs": [],
   "source": [
    "help(iris)"
   ]
  },
  {
   "cell_type": "markdown",
   "metadata": {},
   "source": [
    "<div class=\"alert alert-block alert-success\">\n",
    "    Utilisez la cellule suivante pour répondre aux questions :\n",
    "    <ol>\n",
    "        <li>Représenter les boxplots de chacune des 4 variables en fonction des modalités de la variable <code>Species</code>.<br>\n",
    "            <center><img src=\"img/iris.png\"></center>\n",
    "        </li>\n",
    "        <li>On souhaite appliquer une ANOVA sur chacun des variable quantitative de ce jeux de donnée. Que cherche-t-on à tester ? </li>\n",
    "        <li>Le bon fonctionnement de l'ANOVA repose sur des hypothèses, quelles sont t'elle ? Mettez en place un tester pour vérifier si elles semble raisonnable sur ce jeux de données. </li>\n",
    "        <li>Pour chaque variable quantitative du jeu de données <code>iris</code>, utiliser la fonction <code>aov()</code> puis <code>print()</code> et <code>summary()</code> sur le résultat pour appliquer l'ANOVA.</li>\n",
    "    </ol>\n",
    "</div>"
   ]
  },
  {
   "cell_type": "code",
   "execution_count": null,
   "metadata": {
    "vscode": {
     "languageId": "r"
    }
   },
   "outputs": [],
   "source": [
    "# À FAIRE"
   ]
  }
 ],
 "metadata": {
  "kernelspec": {
   "display_name": "R",
   "language": "R",
   "name": "ir"
  },
  "language_info": {
   "codemirror_mode": "r",
   "file_extension": ".r",
   "mimetype": "text/x-r-source",
   "name": "R",
   "pygments_lexer": "r",
   "version": "4.3.3"
  }
 },
 "nbformat": 4,
 "nbformat_minor": 4
}
