{
 "cells": [
  {
   "cell_type": "markdown",
   "id": "dd560ada",
   "metadata": {},
   "source": [
    "# TP 2.2 : Estimation"
   ]
  },
  {
   "cell_type": "markdown",
   "id": "20c928e4",
   "metadata": {},
   "source": [
    "## 1. Loi de Pareto\n",
    "\n",
    "On considère dans cette partie une variable aléatoire suivant une loi de Pareto d'indice $\\alpha$. C'est-à-dire $X\\sim \\mathcal{P}(\\alpha)$ si \n",
    "$$\n",
    "\\mathbb{P}(X>t)=x^{-\\alpha},\\quad t>1.\n",
    "$$\n",
    "On supposera, si besoin, que le parametre $\\alpha>2$ pour s'arrurer que l'espérance et la variance de $X$ soit bien définie.\n"
   ]
  },
  {
   "cell_type": "markdown",
   "id": "2a4f7ed1",
   "metadata": {},
   "source": [
    "\n",
    "    En utilisant le fait suivant :\n",
    "Si $Z$ est une variable aléatoire de fonction de répartition $F$ alors si $U\\sim \\mathcal{U}([0,1])$, la variable $F^{-1}(U)$ suit la même loi que $Z$.\n",
    "\n",
    "Construire un vecteur de taille 100 contenant des réalisations d'une variable aléatoire suivant une loi $\\mathcal{P}(3)$.\n",
    "    \n",
    "</div>"
   ]
  },
  {
   "cell_type": "code",
   "execution_count": 8,
   "id": "6bc45bb2",
   "metadata": {
    "vscode": {
     "languageId": "r"
    }
   },
   "outputs": [],
   "source": [
    "## A FAIRE\n",
    "\n",
    "rpareto <- function(n, alpha){\n",
    "    x <- runif(n)\n",
    "    f <- 1/(1-x^(-alpha))\n",
    "    return(f)\n",
    "}\n",
    "\n",
    "vecteur_100_p3 <- rpareto(100, 3)"
   ]
  },
  {
   "cell_type": "markdown",
   "id": "deccc0a1",
   "metadata": {},
   "source": [
    "##  2. Estimation\n",
    "\n",
    "Dans cette partie on souhaite comparer les estimateurs par la méthodes des moments et du maximum de vraisemblance du parametre $\\alpha$.\n",
    "<div class=\"alert alert-block alert-success\">\n",
    "    Utilisez la cellule suivante pour répondre aux questions :\n",
    "    <ol>\n",
    "        <li> Calculer (à la main) l'estimateur par la méthode des moments de $\\alpha$.</li>\n",
    "        <li> Discuter en quelque mots si cet estimateur est fortement consistent ? Asymptotiquement normal ? </li>\n",
    "        <li> Illustrer numériquement la consistence de l'estimateur des moments. </li>\n",
    "        <li> Illustrer, en vous inspirant de la première partie du TP 2.1 numériquement, la normalité asymptotique de l'estimateur des moments.</li>\n",
    "    </ol>\n",
    "</div>"
   ]
  },
  {
   "cell_type": "code",
   "execution_count": 13,
   "id": "077a0cba",
   "metadata": {
    "vscode": {
     "languageId": "r"
    }
   },
   "outputs": [
    {
     "name": "stdout",
     "output_type": "stream",
     "text": [
      "méthde des moments, alpha : "
     ]
    },
    {
     "data": {
      "text/html": [
       "0.628393018540523"
      ],
      "text/latex": [
       "0.628393018540523"
      ],
      "text/markdown": [
       "0.628393018540523"
      ],
      "text/plain": [
       "[1] 0.628393"
      ]
     },
     "metadata": {},
     "output_type": "display_data"
    }
   ],
   "source": [
    "#A FAIRE\n",
    "#esperance loi de pareto = alpha /(alpha-1)\n",
    "m <- mean(vecteur_100_p3)\n",
    "cat(\"méthde des moments, alpha : \")\n",
    "alpha_moments <- function(m){\n",
    "    return(m/(m-1)) #ESTIMATEUR de alpha par la méthode des moments \n",
    "} \n",
    "\n",
    "alpha_moments(m)\n",
    "\n"
   ]
  },
  {
   "cell_type": "code",
   "execution_count": 11,
   "id": "04b51c42",
   "metadata": {
    "vscode": {
     "languageId": "r"
    }
   },
   "outputs": [
    {
     "data": {
      "text/html": [
       "<table class=\"dataframe\">\n",
       "<caption>A data.frame: 5 × 2</caption>\n",
       "<thead>\n",
       "\t<tr><th scope=col>n</th><th scope=col>alpha_hat</th></tr>\n",
       "\t<tr><th scope=col>&lt;dbl&gt;</th><th scope=col>&lt;dbl&gt;</th></tr>\n",
       "</thead>\n",
       "<tbody>\n",
       "\t<tr><td>  10</td><td>2.397917</td></tr>\n",
       "\t<tr><td>  50</td><td>2.485573</td></tr>\n",
       "\t<tr><td> 200</td><td>2.707187</td></tr>\n",
       "\t<tr><td>1000</td><td>2.558329</td></tr>\n",
       "\t<tr><td>5000</td><td>2.506037</td></tr>\n",
       "</tbody>\n",
       "</table>\n"
      ],
      "text/latex": [
       "A data.frame: 5 × 2\n",
       "\\begin{tabular}{ll}\n",
       " n & alpha\\_hat\\\\\n",
       " <dbl> & <dbl>\\\\\n",
       "\\hline\n",
       "\t   10 & 2.397917\\\\\n",
       "\t   50 & 2.485573\\\\\n",
       "\t  200 & 2.707187\\\\\n",
       "\t 1000 & 2.558329\\\\\n",
       "\t 5000 & 2.506037\\\\\n",
       "\\end{tabular}\n"
      ],
      "text/markdown": [
       "\n",
       "A data.frame: 5 × 2\n",
       "\n",
       "| n &lt;dbl&gt; | alpha_hat &lt;dbl&gt; |\n",
       "|---|---|\n",
       "|   10 | 2.397917 |\n",
       "|   50 | 2.485573 |\n",
       "|  200 | 2.707187 |\n",
       "| 1000 | 2.558329 |\n",
       "| 5000 | 2.506037 |\n",
       "\n"
      ],
      "text/plain": [
       "  n    alpha_hat\n",
       "1   10 2.397917 \n",
       "2   50 2.485573 \n",
       "3  200 2.707187 \n",
       "4 1000 2.558329 \n",
       "5 5000 2.506037 "
      ]
     },
     "metadata": {},
     "output_type": "display_data"
    }
   ],
   "source": [
    "#ILLUSTRATION NUMÉRIQUE DE LA CONSISTENCE :\n",
    "# Paramètre vrai\n",
    "alpha <- 2.5\n",
    "n_vec <- c(10, 50, 200, 1000, 5000)\n",
    "set.seed(123)\n",
    "\n",
    "\n",
    "\n",
    "hat_alpha_mm <- sapply(n_vec, function(n){\n",
    "  X <- rpareto(n, alpha)\n",
    "  mean(X)/(mean(X)-1)\n",
    "})\n",
    "\n",
    "data.frame(n = n_vec, alpha_hat = hat_alpha_mm)\n"
   ]
  },
  {
   "cell_type": "markdown",
   "id": "7e109cec",
   "metadata": {},
   "source": [
    "<div class=\"alert alert-block alert-success\">\n",
    "    Utilisez la cellule suivante pour répondre aux questions :\n",
    "    <ol>\n",
    "        <li> Calculer (à la main) l'estimateur du maximum de vraisemblance de $\\alpha$.</li>\n",
    "        <li> Illustrer numériquement la consistence de l'estimateur des moments. </li>\n",
    "        <li> Illustrer, en vous inspirant de la première partie du TP 2.1, numériquement la normalité asymptotique de l'estimateur des moments.</li>\n",
    "    </ol>\n",
    "</div>"
   ]
  },
  {
   "cell_type": "code",
   "execution_count": null,
   "id": "f936caf6",
   "metadata": {
    "vscode": {
     "languageId": "r"
    }
   },
   "outputs": [
    {
     "name": "stdout",
     "output_type": "stream",
     "text": [
      "Estimateur MV de alpha : 2.563679 \n"
     ]
    }
   ],
   "source": [
    "#A FAIRE\n",
    "\n",
    "\n",
    "\n",
    "#  générer un échantillon\n",
    "set.seed(123)\n",
    "n <- 100\n",
    "alpha_true <- 2.5\n",
    "X <- rpareto(n, alpha_true) #échantillon généré\n",
    "\n",
    "# Estimateur du maximum de vraisemblance pour alpha\n",
    "alpha_mv <- function(x) {\n",
    "  n <- length(x)\n",
    "  alpha_hat <- n / sum(log(x)) #formule du max de vraisemblance de alpha pour pareto : c'est un ESTIMATEUR\n",
    "  return(alpha_hat)\n",
    "}\n",
    "\n",
    "# Calcul\n",
    "hat_alpha <- alpha_mv(X) # MV de alpha pour l'échantillon généré \n",
    "cat(\"Estimateur MV de alpha :\", hat_alpha, \"\\n\")\n",
    "\n",
    "\n"
   ]
  },
  {
   "cell_type": "markdown",
   "id": "0b15056d",
   "metadata": {},
   "source": [
    "<div class=\"alert alert-block alert-success\">\n",
    "    Utilisez la cellule suivante pour répondre aux questions :\n",
    "    <ol>\n",
    "        <li> En vous inspirant de la première partie du TP 2.1, calculer la variance de chaqun des deux estimateurs.</li>\n",
    "        <li> L'un vous semble-t-il plus performent ? Est-ce surprenant ?  </li>\n",
    "    </ol>\n",
    "</div>"
   ]
  },
  {
   "cell_type": "code",
   "execution_count": 16,
   "id": "1bfa826f",
   "metadata": {
    "vscode": {
     "languageId": "r"
    }
   },
   "outputs": [
    {
     "name": "stdout",
     "output_type": "stream",
     "text": [
      "Variance empirique Méthode des Moments : 0.07866865 \n",
      "Variance empirique Maximum de Vraisemblance : 0.06343069 \n"
     ]
    },
    {
     "data": {
      "image/png": "[encoded data removed]",
      "text/plain": [
       "Plot with title “Estimateurs alpha”"
      ]
     },
     "metadata": {
      "image/png": {
       "height": 420,
       "width": 420
      }
     },
     "output_type": "display_data"
    }
   ],
   "source": [
    "# Fonction pour générer des tirages Pareto standard\n",
    "rpareto <- function(n, alpha, xm = 1) {\n",
    "  u <- runif(n)\n",
    "  xm * (1 - u)^(-1/alpha)\n",
    "}\n",
    "\n",
    "# Estimateur par méthode des moments\n",
    "alpha_mm <- function(x) {\n",
    "  mean(x) / (mean(x) - 1)\n",
    "}\n",
    "\n",
    "# Estimateur par maximum de vraisemblance\n",
    "alpha_mv <- function(x) {\n",
    "  n <- length(x)\n",
    "  n / sum(log(x))\n",
    "}\n",
    "\n",
    "# Paramètres\n",
    "alpha_true <- 2.5\n",
    "n <- 100        # taille de l'échantillon\n",
    "B <- 10000      # nombre de simulations\n",
    "\n",
    "# Vecteurs pour stocker les estimateurs\n",
    "mm_est <- numeric(B)\n",
    "mv_est <- numeric(B)\n",
    "\n",
    "# Simulations\n",
    "set.seed(123)\n",
    "for(b in 1:B){\n",
    "  X <- rpareto(n, alpha_true)\n",
    "  mm_est[b] <- alpha_mm(X)\n",
    "  mv_est[b] <- alpha_mv(X)\n",
    "}\n",
    "\n",
    "# Variance empirique\n",
    "var_mm <- var(mm_est)\n",
    "var_mv <- var(mv_est)\n",
    "\n",
    "cat(\"Variance empirique Méthode des Moments :\", var_mm, \"\\n\")\n",
    "cat(\"Variance empirique Maximum de Vraisemblance :\", var_mv, \"\\n\")\n",
    "\n",
    "# Histogramme pour visualiser la distribution\n",
    "par (bg = \"white\")\n",
    "hist(mm_est, breaks=50, probability=TRUE, main=\"Estimateurs alpha\", col=rgb(1,0,0,0.3), xlim=c(2,3.5))\n",
    "hist(mv_est, breaks=50, probability=TRUE, col=rgb(0,0,1,0.3), add=TRUE)\n",
    "legend(\"topright\", legend=c(\"MM\",\"MV\"), fill=c(rgb(1,0,0,0.3), rgb(0,0,1,0.3)))\n",
    "\n"
   ]
  },
  {
   "cell_type": "code",
   "execution_count": null,
   "id": "82b8dc9c",
   "metadata": {
    "vscode": {
     "languageId": "r"
    }
   },
   "outputs": [],
   "source": [
    "#MV plus efficace : variance plus faible"
   ]
  },
  {
   "cell_type": "markdown",
   "id": "e95d0c76",
   "metadata": {},
   "source": [
    "## 3. Pour aller plus loin : le bootstrap.\n",
    "\n",
    "Maintenant, contrairement à la première partie du TP 2.1, nous supposerons avoir uniquement un vecteur de 100 réalisation de notre loi de Pareto et qu'il nous est IMPOSSIBLE d'en tirer ou simuler d'avantage.\n",
    "\n",
    "Pour criconvenir a ce désagrément B. Efron propose en 1979 la méthode suivante :\n",
    "\n",
    "Soit $X_1,\\dots,X_n$ notre échantillon. On va alors tirer dans cet échantillon pour construire un echantillon bootstrap.\n",
    "Formellement on tirer $u(1),\\dots,u(n)$ $n$ variables aléatoires i.i.d uniforme sur {$1,\\dots,n$} (donc discrète). Léchantillon bootstrap est alors $X_{u(1)},\\dots,X_{u(n)}$.\n",
    "\n",
    "Attention : ce n'est pas un mélange des $(X_i)$, en effet le même $X_{i_0}$ peut apparaitre plusieur fois dans l'échantillon bootstrap.\n",
    "\n",
    "Pour $B\\in \\mathbb{N}$ on peut répéter cette opétation $B$ fois et ainsi obtenir $B$ échantillons noté $X_{1}^b,\\dots,X_{n}^b$ pour $b$ allant de $1$ à $B$. Sur chaque échantillon on peut alors construire un estimateur de $\\alpha$ et ainsi obtenir $\\hat \\alpha_n^1,\\dot,\\hat \\alpha_n^B$, $B$ estimateur bootstrap.\n",
    "\n",
    "Sous certaine condition, en particulier si $\\sqrt{n}(\\hat \\alpha_n-\\alpha)\\underset{n\\rightarrow\\infty}{\\longrightarrow}\\mathcal{N}(0,\\sigma^2)$, on a \n",
    "$$\n",
    "\\sqrt{B}\\left(\\frac{1}{B}\\sum_{b=1}^B\\hat \\alpha_n^b-\\alpha_n\\right)\\underset{n\\rightarrow\\infty}{\\longrightarrow}\\mathcal{N}(0,\\sigma^2).\n",
    "$$\n",
    "\n",
    "<div class=\"alert alert-block alert-success\">\n",
    "    Utilisez la cellule suivante pour répondre aux questions :\n",
    "    <ol>\n",
    "        <li> Mettre en place une procédure bootsrap pour l'estimateur du maximum de vraisemblance. Vous pourrez vous aider de la fonction <code>sample()<code>. </li>\n",
    "        <li> Vérifier numériquement que la moyenne des estimateur bootstrap vérifie bien la propriété ci dessus. </li>\n",
    "    </ol>\n",
    "</div>"
   ]
  },
  {
   "cell_type": "code",
   "execution_count": null,
   "id": "6add6270",
   "metadata": {
    "vscode": {
     "languageId": "r"
    }
   },
   "outputs": [],
   "source": [
    "#A FAIRE"
   ]
  },
  {
   "cell_type": "markdown",
   "id": "d1c7d208",
   "metadata": {},
   "source": [
    "<div class=\"alert alert-block alert-success\">\n",
    "    Utilisez la cellule suivante pour répondre aux questions : Les questions 2 et 3 concernent les tests que nous verrons demain, vous pourrez donc y revenir à ce moment la.\n",
    "    <ol>\n",
    "        <li> Se servir de cette méthode pour estimer la variance de l'estimateur du maximum de vraisemblance. </li>\n",
    "        <li> Comment se servir de cette méthode pour construire un test de niveau $0.95$ testant l'hypothèse $H_0 : \\alpha= 3$ contre l'alternative $H_1\\neq 3$ </li>\n",
    "        <li> Vous chercherez à évaluer la puissance de ce test en fonction de $\\alpha$. </li>\n",
    "    </ol>\n",
    "</div>"
   ]
  },
  {
   "cell_type": "code",
   "execution_count": null,
   "id": "f06c556b",
   "metadata": {
    "vscode": {
     "languageId": "r"
    }
   },
   "outputs": [],
   "source": [
    "#A FAIRE"
   ]
  }
 ],
 "metadata": {
  "kernelspec": {
   "display_name": "R",
   "language": "R",
   "name": "ir"
  },
  "language_info": {
   "codemirror_mode": "r",
   "file_extension": ".r",
   "mimetype": "text/x-r-source",
   "name": "R",
   "pygments_lexer": "r",
   "version": "4.3.3"
  }
 },
 "nbformat": 4,
 "nbformat_minor": 5
}
